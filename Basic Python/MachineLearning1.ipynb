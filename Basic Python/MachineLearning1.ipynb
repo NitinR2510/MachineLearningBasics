{
  "nbformat": 4,
  "nbformat_minor": 0,
  "metadata": {
    "colab": {
      "name": "MachineLearning1.ipynb",
      "provenance": []
    },
    "kernelspec": {
      "name": "python3",
      "display_name": "Python 3"
    }
  },
  "cells": [
    {
      "cell_type": "markdown",
      "metadata": {
        "id": "QzzlTshTgvMt"
      },
      "source": [
        "**Machine Learning Part 1**"
      ]
    },
    {
      "cell_type": "markdown",
      "metadata": {
        "id": "bFlkBucDg8EW"
      },
      "source": [
        "*Lists, Tupples and Dictionaries*"
      ]
    },
    {
      "cell_type": "code",
      "metadata": {
        "id": "1IEnXf2Qgt7o"
      },
      "source": [
        "#Lists\r\n",
        "l = [] #list\r\n",
        "t =(1,) #tuple\r\n",
        "d = {\"brand\": \"Ford\", \"model\": \"Mustang\", \"year\": 1964 } #dictionary"
      ],
      "execution_count": 2,
      "outputs": []
    },
    {
      "cell_type": "code",
      "metadata": {
        "colab": {
          "base_uri": "https://localhost:8080/"
        },
        "id": "fChNF0ep8MJF",
        "outputId": "1752ae71-5884-4f1b-8171-8097c0069e88"
      },
      "source": [
        "print(l)\r\n",
        "l.append(4)\r\n",
        "l.append(5)\r\n",
        "l.append(6)\r\n",
        "l.pop()\r\n",
        "l.remove(4)\r\n",
        "print(t)\r\n",
        "print(l)"
      ],
      "execution_count": 3,
      "outputs": [
        {
          "output_type": "stream",
          "text": [
            "[]\n",
            "(1,)\n",
            "[5]\n"
          ],
          "name": "stdout"
        }
      ]
    },
    {
      "cell_type": "code",
      "metadata": {
        "colab": {
          "base_uri": "https://localhost:8080/"
        },
        "id": "3Xgmtia4HQjz",
        "outputId": "bff0a6b9-bd34-4ca0-8f0c-ad5d041e5206"
      },
      "source": [
        "print(d['brand'])"
      ],
      "execution_count": 5,
      "outputs": [
        {
          "output_type": "stream",
          "text": [
            "Ford\n"
          ],
          "name": "stdout"
        }
      ]
    },
    {
      "cell_type": "code",
      "metadata": {
        "id": "ZaNorxoHQGtr"
      },
      "source": [
        "d2 = {\r\n",
        "  \"brand\": \"Ford\",\r\n",
        "  \"electric\": False,\r\n",
        "  \"year\": 1964,\r\n",
        "  \"colors\": [\"red\", \"white\", \"blue\"]\r\n",
        "}"
      ],
      "execution_count": 24,
      "outputs": []
    },
    {
      "cell_type": "code",
      "metadata": {
        "colab": {
          "base_uri": "https://localhost:8080/"
        },
        "id": "xMJQep3UQUtg",
        "outputId": "01e301ba-699b-4c05-8615-c57d2654db51"
      },
      "source": [
        "print(d2['colors'])"
      ],
      "execution_count": 25,
      "outputs": [
        {
          "output_type": "stream",
          "text": [
            "['red', 'white', 'blue']\n"
          ],
          "name": "stdout"
        }
      ]
    },
    {
      "cell_type": "code",
      "metadata": {
        "colab": {
          "base_uri": "https://localhost:8080/"
        },
        "id": "XNXUfBsLQZJ7",
        "outputId": "2bb163d7-8c77-4945-ce0b-63a0e91bf150"
      },
      "source": [
        "type(d2)"
      ],
      "execution_count": 26,
      "outputs": [
        {
          "output_type": "execute_result",
          "data": {
            "text/plain": [
              "dict"
            ]
          },
          "metadata": {
            "tags": []
          },
          "execution_count": 26
        }
      ]
    },
    {
      "cell_type": "code",
      "metadata": {
        "colab": {
          "base_uri": "https://localhost:8080/"
        },
        "id": "3RfPnjxGR9Dh",
        "outputId": "5a313b17-fbcc-46e9-923c-266a43695053"
      },
      "source": [
        "print(len(d2))"
      ],
      "execution_count": 27,
      "outputs": [
        {
          "output_type": "stream",
          "text": [
            "4\n"
          ],
          "name": "stdout"
        }
      ]
    },
    {
      "cell_type": "code",
      "metadata": {
        "colab": {
          "base_uri": "https://localhost:8080/"
        },
        "id": "4v2McdYQSQzv",
        "outputId": "f50398c6-98bf-41e5-d511-2a7083e8ec0d"
      },
      "source": [
        "d2.get('colors')"
      ],
      "execution_count": 28,
      "outputs": [
        {
          "output_type": "execute_result",
          "data": {
            "text/plain": [
              "['red', 'white', 'blue']"
            ]
          },
          "metadata": {
            "tags": []
          },
          "execution_count": 28
        }
      ]
    },
    {
      "cell_type": "code",
      "metadata": {
        "colab": {
          "base_uri": "https://localhost:8080/"
        },
        "id": "7vwNVQgSSdVw",
        "outputId": "c05fb119-6d01-489e-e6f7-223add966bca"
      },
      "source": [
        "d2.keys()"
      ],
      "execution_count": 29,
      "outputs": [
        {
          "output_type": "execute_result",
          "data": {
            "text/plain": [
              "dict_keys(['brand', 'electric', 'year', 'colors'])"
            ]
          },
          "metadata": {
            "tags": []
          },
          "execution_count": 29
        }
      ]
    },
    {
      "cell_type": "code",
      "metadata": {
        "colab": {
          "base_uri": "https://localhost:8080/"
        },
        "id": "dykdwsYKShxw",
        "outputId": "c5284463-2eb3-404e-f3c5-9bb2f767c057"
      },
      "source": [
        "d2.values()"
      ],
      "execution_count": 30,
      "outputs": [
        {
          "output_type": "execute_result",
          "data": {
            "text/plain": [
              "dict_values(['Ford', False, 1964, ['red', 'white', 'blue']])"
            ]
          },
          "metadata": {
            "tags": []
          },
          "execution_count": 30
        }
      ]
    },
    {
      "cell_type": "code",
      "metadata": {
        "colab": {
          "base_uri": "https://localhost:8080/"
        },
        "id": "O2fnJgvySqD8",
        "outputId": "2fcf121e-fe9c-4f1c-a338-2a12f6300195"
      },
      "source": [
        "#values can be changed using dict(key) = new value\r\n",
        "d2.items()"
      ],
      "execution_count": 31,
      "outputs": [
        {
          "output_type": "execute_result",
          "data": {
            "text/plain": [
              "dict_items([('brand', 'Ford'), ('electric', False), ('year', 1964), ('colors', ['red', 'white', 'blue'])])"
            ]
          },
          "metadata": {
            "tags": []
          },
          "execution_count": 31
        }
      ]
    },
    {
      "cell_type": "code",
      "metadata": {
        "colab": {
          "base_uri": "https://localhost:8080/"
        },
        "id": "it0tTqEyVs51",
        "outputId": "7f61f6e8-57ec-41da-cc0b-d0920e9a64a9"
      },
      "source": [
        "d2.update({'year':2000}) #update\r\n",
        "print(d2)"
      ],
      "execution_count": 32,
      "outputs": [
        {
          "output_type": "stream",
          "text": [
            "{'brand': 'Ford', 'electric': False, 'year': 2000, 'colors': ['red', 'white', 'blue']}\n"
          ],
          "name": "stdout"
        }
      ]
    },
    {
      "cell_type": "code",
      "metadata": {
        "colab": {
          "base_uri": "https://localhost:8080/"
        },
        "id": "0yDOdNu_WGD3",
        "outputId": "e6cb56ab-7248-459e-de23-2e3c4eccda10"
      },
      "source": [
        "#add items\r\n",
        "d2[\"type\"] = \"diesel\"\r\n",
        "print(d2)"
      ],
      "execution_count": 33,
      "outputs": [
        {
          "output_type": "stream",
          "text": [
            "{'brand': 'Ford', 'electric': False, 'year': 2000, 'colors': ['red', 'white', 'blue'], 'type': 'diesel'}\n"
          ],
          "name": "stdout"
        }
      ]
    },
    {
      "cell_type": "code",
      "metadata": {
        "colab": {
          "base_uri": "https://localhost:8080/"
        },
        "id": "o8dEvhUdWXfA",
        "outputId": "fabd9984-6089-4e77-de37-5b341fda894a"
      },
      "source": [
        "d2.pop('year') #delete this key\r\n",
        "print(d2)"
      ],
      "execution_count": 34,
      "outputs": [
        {
          "output_type": "stream",
          "text": [
            "{'brand': 'Ford', 'electric': False, 'colors': ['red', 'white', 'blue'], 'type': 'diesel'}\n"
          ],
          "name": "stdout"
        }
      ]
    },
    {
      "cell_type": "code",
      "metadata": {
        "colab": {
          "base_uri": "https://localhost:8080/"
        },
        "id": "N7ZG_VIvXPSa",
        "outputId": "d68d31a3-1493-48c4-8f88-9ae908c5b965"
      },
      "source": [
        "d2.popitem()  #last item removed"
      ],
      "execution_count": 35,
      "outputs": [
        {
          "output_type": "execute_result",
          "data": {
            "text/plain": [
              "('type', 'diesel')"
            ]
          },
          "metadata": {
            "tags": []
          },
          "execution_count": 35
        }
      ]
    },
    {
      "cell_type": "code",
      "metadata": {
        "colab": {
          "base_uri": "https://localhost:8080/"
        },
        "id": "FYcUdu8DXqTM",
        "outputId": "b480c6cc-99ac-4224-825c-8c3db53aabd6"
      },
      "source": [
        "print(d2)"
      ],
      "execution_count": 36,
      "outputs": [
        {
          "output_type": "stream",
          "text": [
            "{'brand': 'Ford', 'electric': False, 'colors': ['red', 'white', 'blue']}\n"
          ],
          "name": "stdout"
        }
      ]
    },
    {
      "cell_type": "code",
      "metadata": {
        "id": "yaJCi3GJXsVw"
      },
      "source": [
        "del d2['brand']  #another way to remove specified keyy element"
      ],
      "execution_count": 37,
      "outputs": []
    },
    {
      "cell_type": "code",
      "metadata": {
        "colab": {
          "base_uri": "https://localhost:8080/"
        },
        "id": "BWUrHhU6X6JO",
        "outputId": "93b43be3-2a00-4eca-962f-40f4b4b62181"
      },
      "source": [
        "print(d2)"
      ],
      "execution_count": 38,
      "outputs": [
        {
          "output_type": "stream",
          "text": [
            "{'electric': False, 'colors': ['red', 'white', 'blue']}\n"
          ],
          "name": "stdout"
        }
      ]
    },
    {
      "cell_type": "code",
      "metadata": {
        "id": "mU0umyvSX8Ei"
      },
      "source": [
        "# if del d2  - d2 is completely deleted"
      ],
      "execution_count": 39,
      "outputs": []
    },
    {
      "cell_type": "code",
      "metadata": {
        "id": "rPnW4hvMYDAj"
      },
      "source": [
        "d2.clear() #clears dicitonary"
      ],
      "execution_count": 40,
      "outputs": []
    },
    {
      "cell_type": "code",
      "metadata": {
        "colab": {
          "base_uri": "https://localhost:8080/"
        },
        "id": "bfql_yiOYLYe",
        "outputId": "10bd44de-28a6-4f48-f061-af90f6f692fb"
      },
      "source": [
        "print(d2)"
      ],
      "execution_count": 41,
      "outputs": [
        {
          "output_type": "stream",
          "text": [
            "{}\n"
          ],
          "name": "stdout"
        }
      ]
    },
    {
      "cell_type": "markdown",
      "metadata": {
        "id": "2YWMswLuYnqH"
      },
      "source": [
        "*Looping through Dictionaries*"
      ]
    },
    {
      "cell_type": "code",
      "metadata": {
        "colab": {
          "base_uri": "https://localhost:8080/"
        },
        "id": "n8C2nnhYYMgF",
        "outputId": "aa75d473-9d2b-4d47-b460-b2636b158842"
      },
      "source": [
        "print(d)"
      ],
      "execution_count": 42,
      "outputs": [
        {
          "output_type": "stream",
          "text": [
            "{'brand': 'Ford', 'model': 'Mustang', 'year': 1964}\n"
          ],
          "name": "stdout"
        }
      ]
    },
    {
      "cell_type": "code",
      "metadata": {
        "colab": {
          "base_uri": "https://localhost:8080/"
        },
        "id": "IU1o8CZ6ZQUr",
        "outputId": "f3ba4d09-2892-4930-d117-e0250ca007f2"
      },
      "source": [
        "for x in d:    #print keys\r\n",
        "  print(x)"
      ],
      "execution_count": 44,
      "outputs": [
        {
          "output_type": "stream",
          "text": [
            "brand\n",
            "model\n",
            "year\n"
          ],
          "name": "stdout"
        }
      ]
    },
    {
      "cell_type": "code",
      "metadata": {
        "colab": {
          "base_uri": "https://localhost:8080/"
        },
        "id": "rwqDwtVeZUn2",
        "outputId": "22ea2644-81c2-49e1-a885-878c4bc112d5"
      },
      "source": [
        "for x in d:\r\n",
        "  print(d[x])   #print values "
      ],
      "execution_count": 46,
      "outputs": [
        {
          "output_type": "stream",
          "text": [
            "Ford\n",
            "Mustang\n",
            "1964\n"
          ],
          "name": "stdout"
        }
      ]
    },
    {
      "cell_type": "code",
      "metadata": {
        "colab": {
          "base_uri": "https://localhost:8080/"
        },
        "id": "A4xiUzPRZdco",
        "outputId": "7d9e3721-b3eb-47c7-9bba-e3be4ef8b40c"
      },
      "source": [
        "#printing values and keys using loop\r\n",
        "\r\n",
        "for x in d.values():\r\n",
        "  print(x)\r\n",
        "\r\n",
        "print('----- now keys -----')\r\n",
        "\r\n",
        "for y in d.keys():\r\n",
        "  print(y)"
      ],
      "execution_count": 48,
      "outputs": [
        {
          "output_type": "stream",
          "text": [
            "Ford\n",
            "Mustang\n",
            "1964\n",
            "----- now keys -----\n",
            "brand\n",
            "model\n",
            "year\n"
          ],
          "name": "stdout"
        }
      ]
    },
    {
      "cell_type": "code",
      "metadata": {
        "colab": {
          "base_uri": "https://localhost:8080/"
        },
        "id": "EuhUE3PiZwWL",
        "outputId": "842e590e-0e1a-408b-fa28-8b5982661b6c"
      },
      "source": [
        "for x,y in d.items():\r\n",
        "  print(x,y)"
      ],
      "execution_count": 49,
      "outputs": [
        {
          "output_type": "stream",
          "text": [
            "brand Ford\n",
            "model Mustang\n",
            "year 1964\n"
          ],
          "name": "stdout"
        }
      ]
    },
    {
      "cell_type": "markdown",
      "metadata": {
        "id": "exuDr4Y-bWRM"
      },
      "source": [
        "***Copying Dictionaries***\r\n",
        "\r\n",
        "Dictionaries cannot be copied by dict_new = dict_already.\r\n",
        "Similar to Java, a = b  implies a is a reference variable to b, and not a copy of b \r\n",
        "\r\n"
      ]
    },
    {
      "cell_type": "code",
      "metadata": {
        "id": "dGm_8PIXaLiJ"
      },
      "source": [
        "d = {'brand': 'Ford', 'model': 'Mustang', 'year': 1964}"
      ],
      "execution_count": 52,
      "outputs": []
    },
    {
      "cell_type": "code",
      "metadata": {
        "colab": {
          "base_uri": "https://localhost:8080/"
        },
        "id": "nNeJRyGmddmZ",
        "outputId": "27f0ddf0-f56b-4063-839e-fdf5daf242ba"
      },
      "source": [
        "d1 = d.copy()\r\n",
        "print(d1)"
      ],
      "execution_count": 53,
      "outputs": [
        {
          "output_type": "stream",
          "text": [
            "{'brand': 'Ford', 'model': 'Mustang', 'year': 1964}\n"
          ],
          "name": "stdout"
        }
      ]
    },
    {
      "cell_type": "code",
      "metadata": {
        "colab": {
          "base_uri": "https://localhost:8080/"
        },
        "id": "IheE7qmLdeqI",
        "outputId": "18fd1281-98e1-49a4-c6bc-45a706a6e4f5"
      },
      "source": [
        "d3 = dict(d1)\r\n",
        "print(d3)"
      ],
      "execution_count": 54,
      "outputs": [
        {
          "output_type": "stream",
          "text": [
            "{'brand': 'Ford', 'model': 'Mustang', 'year': 1964}\n"
          ],
          "name": "stdout"
        }
      ]
    },
    {
      "cell_type": "markdown",
      "metadata": {
        "id": "gwRGEjEMd7d_"
      },
      "source": [
        "**Nested List**"
      ]
    },
    {
      "cell_type": "code",
      "metadata": {
        "colab": {
          "base_uri": "https://localhost:8080/"
        },
        "id": "5R3Cwx-8dv_3",
        "outputId": "85cc47c7-46c0-41be-a775-005fc39d87e7"
      },
      "source": [
        "myfamily = {\r\n",
        "  \"child1\" : {\r\n",
        "    \"name\" : \"Emil\",\r\n",
        "    \"year\" : 2004\r\n",
        "  },\r\n",
        "  \"child2\" : {\r\n",
        "    \"name\" : \"Tobias\",\r\n",
        "    \"year\" : 2007\r\n",
        "  },\r\n",
        "  \"child3\" : {\r\n",
        "    \"name\" : \"Linus\",\r\n",
        "    \"year\" : 2011\r\n",
        "  }\r\n",
        "}\r\n",
        "\r\n",
        "print(myfamily)"
      ],
      "execution_count": 55,
      "outputs": [
        {
          "output_type": "stream",
          "text": [
            "{'child1': {'name': 'Emil', 'year': 2004}, 'child2': {'name': 'Tobias', 'year': 2007}, 'child3': {'name': 'Linus', 'year': 2011}}\n"
          ],
          "name": "stdout"
        }
      ]
    },
    {
      "cell_type": "code",
      "metadata": {
        "colab": {
          "base_uri": "https://localhost:8080/"
        },
        "id": "mNBOShnVfoa7",
        "outputId": "dbeba30d-91fd-45d6-8d3d-b72240fc15bc"
      },
      "source": [
        "#or\r\n",
        "child1 = {\r\n",
        "  \"name\" : \"Emil\",\r\n",
        "  \"year\" : 2004\r\n",
        "}\r\n",
        "child2 = {\r\n",
        "  \"name\" : \"Tobias\",\r\n",
        "  \"year\" : 2007\r\n",
        "}\r\n",
        "child3 = {\r\n",
        "  \"name\" : \"Linus\",\r\n",
        "  \"year\" : 2011\r\n",
        "}\r\n",
        "\r\n",
        "myfamily = {\r\n",
        "  \"child1\" : child1,\r\n",
        "  \"child2\" : child2,\r\n",
        "  \"child3\" : child3\r\n",
        "}\r\n",
        "\r\n",
        "print(myfamily)"
      ],
      "execution_count": 56,
      "outputs": [
        {
          "output_type": "stream",
          "text": [
            "{'child1': {'name': 'Emil', 'year': 2004}, 'child2': {'name': 'Tobias', 'year': 2007}, 'child3': {'name': 'Linus', 'year': 2011}}\n"
          ],
          "name": "stdout"
        }
      ]
    },
    {
      "cell_type": "markdown",
      "metadata": {
        "id": "o5yi_LEhjG20"
      },
      "source": [
        "https://www.w3schools.com/python/python_dictionaries_methods.asp\r\n",
        "\r\n",
        "Here is a link for all methods in a dictionary."
      ]
    },
    {
      "cell_type": "code",
      "metadata": {
        "id": "PdPdJwWijHys"
      },
      "source": [
        ""
      ],
      "execution_count": null,
      "outputs": []
    }
  ]
}