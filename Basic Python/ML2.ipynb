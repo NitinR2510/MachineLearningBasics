{
  "nbformat": 4,
  "nbformat_minor": 0,
  "metadata": {
    "colab": {
      "name": "ML2.ipynb",
      "provenance": []
    },
    "kernelspec": {
      "display_name": "Python 3",
      "name": "python3"
    }
  },
  "cells": [
    {
      "cell_type": "markdown",
      "metadata": {
        "id": "TBbh1v4J1P-y"
      },
      "source": [
        "**ML PART 2 - STRINGS, LOOPS, FUNCTIONS**\r\n",
        "\r\n"
      ]
    },
    {
      "cell_type": "code",
      "metadata": {
        "colab": {
          "base_uri": "https://localhost:8080/"
        },
        "id": "90otvtJO1KZl",
        "outputId": "d57be720-e823-4f7b-eb06-d6c3fb097b9e"
      },
      "source": [
        "a = 'Hello. I am Nitin Ranjan.'\r\n",
        "print(a)"
      ],
      "execution_count": null,
      "outputs": [
        {
          "output_type": "stream",
          "text": [
            "Hello. I am Nitin Ranjan.\n"
          ],
          "name": "stdout"
        }
      ]
    },
    {
      "cell_type": "code",
      "metadata": {
        "colab": {
          "base_uri": "https://localhost:8080/"
        },
        "id": "6m3Nwe0bcftr",
        "outputId": "b0e3ee7c-6800-45d9-f18c-bf7dd59753a4"
      },
      "source": [
        "#string truncataion\r\n",
        "print(a[4:])\r\n",
        "print(a[:8])\r\n",
        "print(a[:])"
      ],
      "execution_count": null,
      "outputs": [
        {
          "output_type": "stream",
          "text": [
            "o. I am Nitin Ranjan.\n",
            "Hello. I\n",
            "Hello. I am Nitin Ranjan.\n"
          ],
          "name": "stdout"
        }
      ]
    },
    {
      "cell_type": "code",
      "metadata": {
        "colab": {
          "base_uri": "https://localhost:8080/"
        },
        "id": "OZCotlNvNKZQ",
        "outputId": "71ff3a7d-8078-4265-c4e7-d5bb0bab61ae"
      },
      "source": [
        "#a string is an array\r\n",
        "print(a[3])\r\n",
        "print(a[-1])\r\n",
        "for i in a:\r\n",
        "  print(i,\"\\n\")"
      ],
      "execution_count": null,
      "outputs": [
        {
          "output_type": "stream",
          "text": [
            "l\n",
            ".\n",
            "H \n",
            "\n",
            "e \n",
            "\n",
            "l \n",
            "\n",
            "l \n",
            "\n",
            "o \n",
            "\n",
            ". \n",
            "\n",
            "  \n",
            "\n",
            "I \n",
            "\n",
            "  \n",
            "\n",
            "a \n",
            "\n",
            "m \n",
            "\n",
            "  \n",
            "\n",
            "N \n",
            "\n",
            "i \n",
            "\n",
            "t \n",
            "\n",
            "i \n",
            "\n",
            "n \n",
            "\n",
            "  \n",
            "\n",
            "R \n",
            "\n",
            "a \n",
            "\n",
            "n \n",
            "\n",
            "j \n",
            "\n",
            "a \n",
            "\n",
            "n \n",
            "\n",
            ". \n",
            "\n"
          ],
          "name": "stdout"
        }
      ]
    },
    {
      "cell_type": "code",
      "metadata": {
        "colab": {
          "base_uri": "https://localhost:8080/",
          "height": 180
        },
        "id": "nyQl709gdPiM",
        "outputId": "643e34b8-df13-46b7-84de-71d523cebe37"
      },
      "source": [
        "#string is immutable, just like a tuple\r\n",
        "a[3] = 'd'"
      ],
      "execution_count": null,
      "outputs": [
        {
          "output_type": "error",
          "ename": "TypeError",
          "evalue": "ignored",
          "traceback": [
            "\u001b[0;31m---------------------------------------------------------------------------\u001b[0m",
            "\u001b[0;31mTypeError\u001b[0m                                 Traceback (most recent call last)",
            "\u001b[0;32m<ipython-input-6-e5666c8522c8>\u001b[0m in \u001b[0;36m<module>\u001b[0;34m()\u001b[0m\n\u001b[1;32m      1\u001b[0m \u001b[0;31m#string is immutable, just like a tuple\u001b[0m\u001b[0;34m\u001b[0m\u001b[0;34m\u001b[0m\u001b[0;34m\u001b[0m\u001b[0m\n\u001b[0;32m----> 2\u001b[0;31m \u001b[0ma\u001b[0m\u001b[0;34m[\u001b[0m\u001b[0;36m3\u001b[0m\u001b[0;34m]\u001b[0m \u001b[0;34m=\u001b[0m \u001b[0;34m'd'\u001b[0m\u001b[0;34m\u001b[0m\u001b[0;34m\u001b[0m\u001b[0m\n\u001b[0m",
            "\u001b[0;31mTypeError\u001b[0m: 'str' object does not support item assignment"
          ]
        }
      ]
    },
    {
      "cell_type": "code",
      "metadata": {
        "colab": {
          "base_uri": "https://localhost:8080/"
        },
        "id": "0xZRe7GjdbPk",
        "outputId": "c371de9b-2539-4392-fd92-29c5a7517d4e"
      },
      "source": [
        "#length of string\r\n",
        "print(len(a))"
      ],
      "execution_count": null,
      "outputs": [
        {
          "output_type": "stream",
          "text": [
            "25\n"
          ],
          "name": "stdout"
        }
      ]
    },
    {
      "cell_type": "code",
      "metadata": {
        "colab": {
          "base_uri": "https://localhost:8080/"
        },
        "id": "F9waw-DydrKZ",
        "outputId": "b9bcb648-125f-455b-e893-bc5831af95b3"
      },
      "source": [
        "#determine a substring in a string\r\n",
        "print('apple' in 'custardaapplepie')"
      ],
      "execution_count": null,
      "outputs": [
        {
          "output_type": "stream",
          "text": [
            "True\n"
          ],
          "name": "stdout"
        }
      ]
    },
    {
      "cell_type": "code",
      "metadata": {
        "colab": {
          "base_uri": "https://localhost:8080/"
        },
        "id": "bbY9HgM3gXR-",
        "outputId": "ebc48216-d870-496f-cd85-58b8aaf57d79"
      },
      "source": [
        "print('ice' not in 'icecream parlour by the lake')"
      ],
      "execution_count": null,
      "outputs": [
        {
          "output_type": "stream",
          "text": [
            "False\n"
          ],
          "name": "stdout"
        }
      ]
    },
    {
      "cell_type": "code",
      "metadata": {
        "colab": {
          "base_uri": "https://localhost:8080/"
        },
        "id": "zPjEwe9khJX9",
        "outputId": "7223be73-abb9-41d7-a169-bd3f33b4e3a3"
      },
      "source": [
        "#upper case and lower case strings\r\n",
        "print(a.upper())\r\n",
        "print(a.lower())"
      ],
      "execution_count": null,
      "outputs": [
        {
          "output_type": "stream",
          "text": [
            "HELLO. I AM NITIN RANJAN.\n",
            "hello. i am nitin ranjan.\n"
          ],
          "name": "stdout"
        }
      ]
    },
    {
      "cell_type": "code",
      "metadata": {
        "colab": {
          "base_uri": "https://localhost:8080/"
        },
        "id": "t9VCG6PLiNKa",
        "outputId": "d412d460-5f3f-4b05-a756-38708bcd24e4"
      },
      "source": [
        "#remove whitespaces using strip function\r\n",
        "print(a.strip())"
      ],
      "execution_count": null,
      "outputs": [
        {
          "output_type": "stream",
          "text": [
            "Hello. I am Nitin Ranjan.\n"
          ],
          "name": "stdout"
        }
      ]
    },
    {
      "cell_type": "code",
      "metadata": {
        "colab": {
          "base_uri": "https://localhost:8080/"
        },
        "id": "dwegO-toiXag",
        "outputId": "32503e5e-cf77-4c70-99a9-d60815a758f9"
      },
      "source": [
        "#replace function\r\n",
        "print(a.replace('H','A'))"
      ],
      "execution_count": null,
      "outputs": [
        {
          "output_type": "stream",
          "text": [
            "Aello. I am Nitin Ranjan.\n"
          ],
          "name": "stdout"
        }
      ]
    },
    {
      "cell_type": "code",
      "metadata": {
        "colab": {
          "base_uri": "https://localhost:8080/"
        },
        "id": "9Z_E8luoifNu",
        "outputId": "28a459d0-91bf-4f92-f760-573dba16b8e4"
      },
      "source": [
        "#split function\r\n",
        "print(a.split())"
      ],
      "execution_count": null,
      "outputs": [
        {
          "output_type": "stream",
          "text": [
            "['Hello.', 'I', 'am', 'Nitin', 'Ranjan.']\n"
          ],
          "name": "stdout"
        }
      ]
    },
    {
      "cell_type": "code",
      "metadata": {
        "colab": {
          "base_uri": "https://localhost:8080/"
        },
        "id": "JXoSxp7oij-c",
        "outputId": "6c6a07c6-2817-4848-df63-7e685b70c8e5"
      },
      "source": [
        "#string concatenation\r\n",
        "s1 = 'apple'\r\n",
        "s2 = ' '\r\n",
        "s3 ='pie killed cinderealli'\r\n",
        "print(s1+s2+s3)"
      ],
      "execution_count": null,
      "outputs": [
        {
          "output_type": "stream",
          "text": [
            "apple pie killed cinderealli\n"
          ],
          "name": "stdout"
        }
      ]
    },
    {
      "cell_type": "markdown",
      "metadata": {
        "id": "c8pNzc8-ksdF"
      },
      "source": [
        "***String Formatting***"
      ]
    },
    {
      "cell_type": "code",
      "metadata": {
        "colab": {
          "base_uri": "https://localhost:8080/",
          "height": 163
        },
        "id": "VO8lat_ckVrg",
        "outputId": "0d082c28-343b-4168-9a40-5b770185733f"
      },
      "source": [
        "print('apple is a sweet fruit. I give it a score of' + 45)  #numbers and strings cannot be added"
      ],
      "execution_count": null,
      "outputs": [
        {
          "output_type": "error",
          "ename": "TypeError",
          "evalue": "ignored",
          "traceback": [
            "\u001b[0;31m---------------------------------------------------------------------------\u001b[0m",
            "\u001b[0;31mTypeError\u001b[0m                                 Traceback (most recent call last)",
            "\u001b[0;32m<ipython-input-20-8fa06540e8a5>\u001b[0m in \u001b[0;36m<module>\u001b[0;34m()\u001b[0m\n\u001b[0;32m----> 1\u001b[0;31m \u001b[0mprint\u001b[0m\u001b[0;34m(\u001b[0m\u001b[0;34m'apple is a sweet fruit. I give it a score of'\u001b[0m \u001b[0;34m+\u001b[0m \u001b[0;36m45\u001b[0m\u001b[0;34m)\u001b[0m  \u001b[0;31m#numbers and strings cannot be added\u001b[0m\u001b[0;34m\u001b[0m\u001b[0;34m\u001b[0m\u001b[0m\n\u001b[0m",
            "\u001b[0;31mTypeError\u001b[0m: can only concatenate str (not \"int\") to str"
          ]
        }
      ]
    },
    {
      "cell_type": "code",
      "metadata": {
        "colab": {
          "base_uri": "https://localhost:8080/"
        },
        "id": "E31hYwXClo6-",
        "outputId": "11cebb60-18b0-4829-c072-34359e144c99"
      },
      "source": [
        "score = 23  \r\n",
        "s4 = \"Apple is the best, I give it a score of {} over 10\"\r\n",
        "print(s4.format(score))"
      ],
      "execution_count": 35,
      "outputs": [
        {
          "output_type": "stream",
          "text": [
            "Apple is the best, I give it a score of 23 over 10\n"
          ],
          "name": "stdout"
        }
      ]
    },
    {
      "cell_type": "code",
      "metadata": {
        "colab": {
          "base_uri": "https://localhost:8080/"
        },
        "id": "gu_MaC2RmJjK",
        "outputId": "4a272231-ed7e-4bce-d0b9-711bcb69a7a2"
      },
      "source": [
        "age = 36\r\n",
        "txt = \"My name is John, and I am {}\"\r\n",
        "print(txt.format(age))"
      ],
      "execution_count": 29,
      "outputs": [
        {
          "output_type": "stream",
          "text": [
            "My name is John, and I am 36\n"
          ],
          "name": "stdout"
        }
      ]
    },
    {
      "cell_type": "code",
      "metadata": {
        "id": "LNrZGXKkmeW2",
        "colab": {
          "base_uri": "https://localhost:8080/"
        },
        "outputId": "0b3b05a3-5d0b-4e8e-ac39-bef430da22d9"
      },
      "source": [
        "#finally, formatting can be done like this.\r\n",
        "cgpa = 8.71\r\n",
        "year = 3\r\n",
        "age = 21\r\n",
        "s5 = \"I am Nitin Ranjan, age {2}. I study at VIT University in the capacity of a {1}rd year student with a CGPA of {0}.\"\r\n",
        "print(s5.format(cgpa, year, age))\r\n",
        "#basically, you can index the parameter elements to the format function\r\n"
      ],
      "execution_count": 38,
      "outputs": [
        {
          "output_type": "stream",
          "text": [
            "I am Nitin Ranjan, age 21. I study at VIT University in the capacity of a 3rd year student with a CGPA of 8.71.\n"
          ],
          "name": "stdout"
        }
      ]
    },
    {
      "cell_type": "markdown",
      "metadata": {
        "id": "9Z6ZpR-eqqZI"
      },
      "source": [
        "https://www.w3schools.com/python/python_strings_escape.asp\r\n",
        "\r\n",
        "link that holds a chart to all the escape characters.\r\n",
        "\r\n",
        "https://www.w3schools.com/python/python_strings_methods.asp\r\n",
        "\r\n",
        "link holds chart to all inbuilt string functions"
      ]
    },
    {
      "cell_type": "markdown",
      "metadata": {
        "id": "0nhHBunDrM8x"
      },
      "source": [
        "# Loops\r\n",
        "\r\n",
        "\r\n",
        "> python has a for and a while loop\r\n",
        "\r\n"
      ]
    },
    {
      "cell_type": "code",
      "metadata": {
        "id": "08Ct5YsJrYBb",
        "outputId": "3cd50f39-3b2f-40b2-d23b-2157ec8dbdd6",
        "colab": {
          "base_uri": "https://localhost:8080/"
        }
      },
      "source": [
        "for i in range(0,13):\r\n",
        "  print(i)\r\n",
        "\r\n",
        "# is equivalent to\r\n",
        "for i in range(13):\r\n",
        "  print(i)\r\n",
        "\r\n",
        "#is equivalent to \r\n",
        "i = 0\r\n",
        "while(i<=12): #is equivalent to while i<13\r\n",
        "  print(i)\r\n",
        "  i +=1\r\n",
        "\r\n",
        "#python does not have a do while loop per se. Similarly, it does not have a switch case either."
      ],
      "execution_count": 47,
      "outputs": [
        {
          "output_type": "stream",
          "text": [
            "0\n",
            "1\n",
            "2\n",
            "3\n",
            "4\n",
            "5\n",
            "6\n",
            "7\n",
            "8\n",
            "9\n",
            "10\n",
            "11\n",
            "12\n",
            "0\n",
            "1\n",
            "2\n",
            "3\n",
            "4\n",
            "5\n",
            "6\n",
            "7\n",
            "8\n",
            "9\n",
            "10\n",
            "11\n",
            "12\n",
            "0\n",
            "1\n",
            "2\n",
            "3\n",
            "4\n",
            "5\n",
            "6\n",
            "7\n",
            "8\n",
            "9\n",
            "10\n",
            "11\n",
            "12\n"
          ],
          "name": "stdout"
        }
      ]
    },
    {
      "cell_type": "markdown",
      "metadata": {
        "id": "1kARl95htJwP"
      },
      "source": [
        "***Functions***"
      ]
    },
    {
      "cell_type": "code",
      "metadata": {
        "id": "ewfG4qKXrb_w"
      },
      "source": [
        "def Hello():  #this is how functions are defined. This one is without parameters.\r\n",
        "  print(\"Hello, I am Nitin\")"
      ],
      "execution_count": 48,
      "outputs": []
    },
    {
      "cell_type": "code",
      "metadata": {
        "id": "V8efACuguBnJ",
        "outputId": "39d215d1-b5fa-498e-94d6-6807e254332c",
        "colab": {
          "base_uri": "https://localhost:8080/"
        }
      },
      "source": [
        "Hello()"
      ],
      "execution_count": 49,
      "outputs": [
        {
          "output_type": "stream",
          "text": [
            "Hello, I am Nitin\n"
          ],
          "name": "stdout"
        }
      ]
    },
    {
      "cell_type": "code",
      "metadata": {
        "id": "xED2Q2HPuDE3"
      },
      "source": [
        "def square(a):\r\n",
        "  print (a*a) #this one has one argument"
      ],
      "execution_count": 51,
      "outputs": []
    },
    {
      "cell_type": "code",
      "metadata": {
        "id": "lGn4FjcGuJpc",
        "outputId": "4e6964d1-a428-4a63-a9ca-fbb2153da049",
        "colab": {
          "base_uri": "https://localhost:8080/"
        }
      },
      "source": [
        "square(4)"
      ],
      "execution_count": 52,
      "outputs": [
        {
          "output_type": "stream",
          "text": [
            "16\n"
          ],
          "name": "stdout"
        }
      ]
    },
    {
      "cell_type": "code",
      "metadata": {
        "id": "o9q-uOrQuOC1"
      },
      "source": [
        "def sum(a,b):\r\n",
        "  print(a+b)  #has two arguments  and similarly, functions can have several arguments"
      ],
      "execution_count": 53,
      "outputs": []
    },
    {
      "cell_type": "code",
      "metadata": {
        "id": "BGDgwEonuYZL",
        "outputId": "445edbd9-f1fa-47fb-9f8a-06163081c87a",
        "colab": {
          "base_uri": "https://localhost:8080/"
        }
      },
      "source": [
        "sum(5,6)"
      ],
      "execution_count": 54,
      "outputs": [
        {
          "output_type": "stream",
          "text": [
            "11\n"
          ],
          "name": "stdout"
        }
      ]
    },
    {
      "cell_type": "code",
      "metadata": {
        "id": "PlkYkOyHuaAS",
        "outputId": "114b6be3-1ad7-4b08-b7be-5918f5ec6b3e",
        "colab": {
          "base_uri": "https://localhost:8080/"
        }
      },
      "source": [
        "def info(name, reg, cgpa, year, fee):\r\n",
        "  print('Name of the student: {0}\\n Year: {3}\\n Registration number: {1}\\n CGPA: {2}\\n Fee: {4}'.format(name,reg,cgpa,year,fee)) #parameters can be of various types\r\n",
        "\r\n",
        "info ('nitin', '18BCEXXXX', 8.71, 3, 2340)"
      ],
      "execution_count": 56,
      "outputs": [
        {
          "output_type": "stream",
          "text": [
            "Name of the student: nitin\n",
            " Year: 3\n",
            " Registration number: 18BCEXXXX\n",
            " CGPA: 8.71\n",
            " Fee: 2340\n"
          ],
          "name": "stdout"
        }
      ]
    },
    {
      "cell_type": "markdown",
      "metadata": {
        "id": "FcaDzkroun4D"
      },
      "source": [
        "*Lambda Function*"
      ]
    },
    {
      "cell_type": "markdown",
      "metadata": {
        "id": "LcRIkTmFv_ZS"
      },
      "source": [
        "Lambda expressions curtail long expressions or loops in a function to fairly shorter strings of expression with the same functionalities. Blah. Blah. Blah."
      ]
    },
    {
      "cell_type": "code",
      "metadata": {
        "id": "LIFIkZXZvmAj",
        "outputId": "45919b7a-6ce1-4981-bc4e-7e78f53fd047",
        "colab": {
          "base_uri": "https://localhost:8080/"
        }
      },
      "source": [
        "#basic arithmetic operations\r\n",
        "\r\n",
        "#single argument\r\n",
        "x = lambda a: print(a*10)\r\n",
        "x(5)\r\n",
        "\r\n",
        "#or\r\n",
        "\r\n",
        "x = lambda a: a+10\r\n",
        "print(x(10))"
      ],
      "execution_count": 61,
      "outputs": [
        {
          "output_type": "stream",
          "text": [
            "50\n",
            "20\n"
          ],
          "name": "stdout"
        }
      ]
    },
    {
      "cell_type": "code",
      "metadata": {
        "id": "w6mdohMGwWCn",
        "outputId": "88d24c2f-a5c9-40ac-ff79-e66a5fa54b4d",
        "colab": {
          "base_uri": "https://localhost:8080/"
        }
      },
      "source": [
        "#two arguments\r\n",
        "x = lambda a, b : a*b +200\r\n",
        "print(x(2,3))"
      ],
      "execution_count": 62,
      "outputs": [
        {
          "output_type": "stream",
          "text": [
            "206\n"
          ],
          "name": "stdout"
        }
      ]
    },
    {
      "cell_type": "code",
      "metadata": {
        "id": "NleVEKyk3LSp",
        "outputId": "bdda708f-3d3e-4c9f-894c-3d7ba3cf375c",
        "colab": {
          "base_uri": "https://localhost:8080/"
        }
      },
      "source": [
        "def myfunc(n):\r\n",
        "  return lambda n: n*12\r\n",
        "\r\n",
        "#let us generate one more unkonwn\r\n",
        "def myfunc(n):\r\n",
        "  return lambda a: a+n\r\n",
        "  #clearly we do not know a. So myfunc(3) returns  <function myfunc.<locals>.<lambda> at 0x7fc223751710>\r\n",
        "\r\n",
        "apple = myfunc(6)  #myfunc returns a lambda function.\r\n",
        "print(apple(3))"
      ],
      "execution_count": 72,
      "outputs": [
        {
          "output_type": "stream",
          "text": [
            "9\n"
          ],
          "name": "stdout"
        }
      ]
    },
    {
      "cell_type": "code",
      "metadata": {
        "id": "O0x-nV-A3rce",
        "outputId": "4f427981-05d7-4604-de6b-19274ea9c824",
        "colab": {
          "base_uri": "https://localhost:8080/"
        }
      },
      "source": [
        "def func1(a,b):\r\n",
        "  return lambda c, d: a+b-c+d\r\n",
        "\r\n",
        "mango = func1(2,3)\r\n",
        "print(mango(5,6))"
      ],
      "execution_count": 74,
      "outputs": [
        {
          "output_type": "stream",
          "text": [
            "6\n"
          ],
          "name": "stdout"
        }
      ]
    },
    {
      "cell_type": "code",
      "metadata": {
        "id": "UD-P3qHO5FXP"
      },
      "source": [
        ""
      ],
      "execution_count": null,
      "outputs": []
    }
  ]
}